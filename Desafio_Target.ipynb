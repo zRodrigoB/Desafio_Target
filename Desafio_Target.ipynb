{
  "nbformat": 4,
  "nbformat_minor": 0,
  "metadata": {
    "colab": {
      "provenance": [],
      "authorship_tag": "ABX9TyPvfu6ybM8uPtIs7OM3hQJ1",
      "include_colab_link": true
    },
    "kernelspec": {
      "name": "python3",
      "display_name": "Python 3"
    },
    "language_info": {
      "name": "python"
    }
  },
  "cells": [
    {
      "cell_type": "markdown",
      "metadata": {
        "id": "view-in-github",
        "colab_type": "text"
      },
      "source": [
        "<a href=\"https://colab.research.google.com/github/zRodrigoB/Desafio_Target/blob/main/Desafio_Target.ipynb\" target=\"_parent\"><img src=\"https://colab.research.google.com/assets/colab-badge.svg\" alt=\"Open In Colab\"/></a>"
      ]
    },
    {
      "cell_type": "markdown",
      "source": [
        "***Questão 1-  Observe o trecho de código abaixo:***\n"
      ],
      "metadata": {
        "id": "Kbovccgxvzfq"
      }
    },
    {
      "cell_type": "code",
      "source": [
        "# Resposta 91\n",
        "\n",
        "\n",
        "\"\"\"\n",
        "CÓDIGO DA QUESTÃO:\n",
        "\n",
        "int INDICE = 13, SOMA = 0, K = 0;\n",
        "\n",
        "enquanto K < INDICE faça\n",
        "\n",
        "{\n",
        "\n",
        "K = K + 1;\n",
        "\n",
        "SOMA = SOMA + K;\n",
        "\n",
        "}\n",
        "\n",
        "imprimir(SOMA);\"\"\"\n",
        "\n",
        "#Traduzi o código para Python\n",
        "INDICE = 13\n",
        "SOMA = 0\n",
        "K = 0\n",
        "\n",
        "while K < INDICE:\n",
        "    K = K + 1\n",
        "    SOMA = SOMA + K\n",
        "    break\n",
        "\n",
        "print(SOMA)\n",
        "\n"
      ],
      "metadata": {
        "colab": {
          "base_uri": "https://localhost:8080/"
        },
        "id": "bRtE9peJv-ie",
        "outputId": "2d3bd5cc-79f9-4e9b-f92f-14aba0a74d01"
      },
      "execution_count": 1,
      "outputs": [
        {
          "output_type": "stream",
          "name": "stdout",
          "text": [
            "91\n"
          ]
        }
      ]
    },
    {
      "cell_type": "markdown",
      "source": [
        "***Questão 2- Dado a sequência de Fibonacci, onde se inicia por 0 e 1 e o próximo valor sempre será a soma dos 2 valores anteriores (exemplo: 0, 1, 1, 2, 3, 5, 8, 13, 21, 34...), escreva um programa na linguagem que desejar onde, informado um número, ele calcule a sequência de Fibonacci e retorne uma mensagem avisando se o número informado pertence ou não a sequência.***"
      ],
      "metadata": {
        "id": "m0myjwx4wQ8v"
      }
    },
    {
      "cell_type": "code",
      "source": [
        "# Define o número a ser verificado e até onde irá ser efetuada a sequência\n",
        "num = 34\n",
        "\n",
        "# Define os primeiros termos da sequência de Fibonacci\n",
        "fib_ant = 0\n",
        "fib_atual = 1\n",
        "\n",
        "# Lista para armazenar os termos da sequência de Fibonacci\n",
        "fibonacci = [fib_ant]\n",
        "\n",
        "# Loop para calcular os próximos termos da sequência até que o último termo seja menor ou igual ao número informado\n",
        "while fib_atual <= num:\n",
        "    fibonacci.append(fib_atual)\n",
        "    fib_ant, fib_atual = fib_atual, fib_ant + fib_atual\n",
        "\n",
        "# Verifica se o número informado pertence à sequência\n",
        "if num in fibonacci:\n",
        "    print(num, \"pertence à sequência de Fibonacci\")\n",
        "else:\n",
        "    print(num, \"não pertence à sequência de Fibonacci\")\n",
        "\n",
        "# Exibe a sequência de Fibonacci até o número informado\n",
        "print(\"Sequência de Fibonacci até\", num, \":\")\n",
        "print(fibonacci)"
      ],
      "metadata": {
        "colab": {
          "base_uri": "https://localhost:8080/"
        },
        "id": "sJi6XmxwwUh7",
        "outputId": "37e35e51-961e-4e75-9d45-0e4e0f56d4a0"
      },
      "execution_count": 3,
      "outputs": [
        {
          "output_type": "stream",
          "name": "stdout",
          "text": [
            "34 pertence à sequência de Fibonacci\n",
            "Sequência de Fibonacci até 34 :\n",
            "[0, 1, 1, 2, 3, 5, 8, 13, 21, 34]\n"
          ]
        }
      ]
    },
    {
      "cell_type": "markdown",
      "source": [
        "***Questão 3- Descubra a lógica e complete o próximo elemento:*** "
      ],
      "metadata": {
        "id": "zgOA1At8wVXH"
      }
    },
    {
      "cell_type": "code",
      "source": [
        "\"\"\"a) A lógica é adicionar 2 ao número anterior. Então o próximo número é 9.\n",
        "\n",
        "Resposta: 1, 3, 5, 7, 9\n",
        "\n",
        "b) A lógica é multiplicar por 2. Então o próximo número é 128.\n",
        "\n",
        "Resposta: 2, 4, 8, 16, 32, 64, 128\n",
        "\n",
        "c) A lógica é elevar o número pelo índice da posição. Então o próximo número é 49.\n",
        "\n",
        "Resposta: 0, 1, 4, 9, 16, 25, 36, 49\n",
        "\n",
        "d) A lógica é elevar o índice da posição ao quadrado. Então o próximo número é 100.\n",
        "\n",
        "Resposta: 4, 16, 36, 64, 100\n",
        "\n",
        "e) A lógica é somar os dois números anteriores. Então o próximo número é 13.\n",
        "\n",
        "Resposta: 1, 1, 2, 3, 5, 8, 13\n",
        "\n",
        "f) Não consegui indentificar a lógica por trás dessa sequência, tentei bastante mas não consegui então meu chute é 20, já que apartir do quarto elemento os números se tornaram lineares.\n",
        "\n",
        "Resposta:  2,10, 12, 16, 17, 18, 19, 20 \"\"\""
      ],
      "metadata": {
        "id": "kFK9ulHYwZUJ"
      },
      "execution_count": null,
      "outputs": []
    },
    {
      "cell_type": "markdown",
      "source": [
        "***Questão 4- O Carro e o Caminhão*** "
      ],
      "metadata": {
        "id": "vZ-cjs3g2gEh"
      }
    },
    {
      "cell_type": "code",
      "source": [
        "\"\"\"Resposta: O caminhão está mais próximo da cidade de Ribeirão Preto quando eles se cruzarem na rodovia.\n",
        "\n",
        "\n",
        "\n",
        "Explicação: Sabemos que a distância entre Ribeirão Preto e Franca é de 100 km, portanto, a metade dessa distância é de 50 km. Vamos calcular o tempo que cada veículo leva para percorrer esses 50 km:\n",
        "\n",
        "O carro está se movendo a uma velocidade constante de 110 km/h, então ele leva aproximadamente 27 minutos para percorrer 50 km.\n",
        "O caminhão está se movendo a uma velocidade constante de 80 km/h, mas leva 5 minutos a mais em cada pedágio, então ele leva aproximadamente 38 minutos para percorrer 50 km.\n",
        "Isso significa que quando eles se encontrarem na rodovia, o caminhão terá percorrido uma distância menor em relação à cidade de Ribeirão Preto do que o carro, ou seja, estará mais próximo da cidade de Ribeirão Preto.\n",
        "\n",
        "\n",
        "\n",
        "Fórmula para calcular em quanto tempo ambos veículos percorrerão 50 Km:\n",
        "Velocidade média = Distância percorrida / Tempo gasto\n",
        "\n",
        "Cálculo:\n",
        "1 hora = 60 minutos\n",
        "\n",
        "Então, para percorrer 1 km, o carro levará:\n",
        "\n",
        "60 minutos / 110 km = 0,54545 minutos/km\n",
        "\n",
        "Agora podemos calcular o tempo gasto para percorrer os 50 km:\n",
        "\n",
        "Tempo gasto = 50 km * 0,54545 minutos/km\n",
        "\n",
        "Tempo gasto = 27,2725 minutos\n",
        "\n",
        "Arredondando dá 27 minutos. Portanto, para percorrer os 50 km a uma velocidade de 110 km/h, o carro levará cerca de 27 minutos.\n",
        "Depois disso só efetuei o mesmo cálculo para o caminhão e adicionei o tempo de pedágio.\n",
        "\n",
        "\n",
        "\n",
        "\"\"\""
      ],
      "metadata": {
        "id": "jLCSAlt12j4H"
      },
      "execution_count": null,
      "outputs": []
    },
    {
      "cell_type": "markdown",
      "source": [
        "***Questão 5 - Escreva um programa que inverta os caracteres de um string.***"
      ],
      "metadata": {
        "id": "STaEYJfV6Sig"
      }
    },
    {
      "cell_type": "code",
      "source": [
        "# Define a string a ser invertida\n",
        "string = \"Rodrigo\"\n",
        "\n",
        "# Converção de string para lista\n",
        "lista = list(string)\n",
        "\n",
        "# Define o tamanho da lista\n",
        "tamanho = len(lista)\n",
        "\n",
        "# Inverte os caracteres\n",
        "for i in range(tamanho // 2):\n",
        "    temp = lista[i]\n",
        "    lista[i] = lista[tamanho - i - 1]\n",
        "    lista[tamanho - i - 1] = temp\n",
        "\n",
        "# Converte a lista de volta para uma string\n",
        "string_invertida = \"\".join(lista)\n",
        "\n",
        "# Imprime a string invertida\n",
        "print(string_invertida)"
      ],
      "metadata": {
        "colab": {
          "base_uri": "https://localhost:8080/"
        },
        "id": "CsBi3gLo6auQ",
        "outputId": "c767d45c-5530-4ad7-a0da-187451cbdcfa"
      },
      "execution_count": 4,
      "outputs": [
        {
          "output_type": "stream",
          "name": "stdout",
          "text": [
            "ogirdoR\n"
          ]
        }
      ]
    }
  ]
}